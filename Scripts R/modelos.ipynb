{
 "cells": [
  {
   "cell_type": "code",
   "execution_count": 1,
   "metadata": {},
   "outputs": [
    {
     "data": {
      "text/plain": [
       "array([1.e+00, 1.e-01, 1.e-02, 1.e-03, 1.e-04, 1.e-05, 1.e-06, 1.e-07,\n",
       "       1.e-08, 1.e-09])"
      ]
     },
     "execution_count": 1,
     "metadata": {},
     "output_type": "execute_result"
    }
   ],
   "source": [
    "# Importando bibliotecas\n",
    "from sklearn.model_selection import train_test_split\n",
    "from sklearn.metrics import accuracy_score, precision_score, roc_auc_score\n",
    "from sklearn.neighbors import KNeighborsClassifier\n",
    "from sklearn.ensemble import RandomForestClassifier\n",
    "from sklearn.naive_bayes import GaussianNB\n",
    "from sklearn.naive_bayes import MultinomialNB\n",
    "from sklearn.naive_bayes import BernoulliNB\n",
    "from sklearn.tree import DecisionTreeClassifier\n",
    "from sklearn.ensemble import RandomForestClassifier\n",
    "from sklearn.neural_network import MLPClassifier\n",
    "from sklearn.svm import SVC\n",
    "from sklearn.model_selection import GridSearchCV\n",
    "import pandas as pd\n",
    "import numpy as np\n",
    "import MySQLdb\n",
    "import matplotlib.pyplot as plt\n",
    "import seaborn as sns\n",
    "import time\n",
    "import seaborn as sns\n",
    "import matplotlib.pyplot as plt\n",
    "start_time = time.time()\n",
    "%matplotlib inline\n",
    "\n"
   ]
  },
  {
   "cell_type": "code",
   "execution_count": 2,
   "metadata": {},
   "outputs": [],
   "source": [
    "# Lendo o banco de dados\n",
    "con = MySQLdb.connect(   host = \"localhost\",\n",
    "                        user = \"XXX\",\n",
    "                        passwd = \"XXX\",\n",
    "                        db = \"Dataset\")\n",
    "\n",
    "df = pd.read_sql('SELECT * FROM Dataset where area = 1', con)\n",
    "df.fillna({'Objetivo_da_Operacao':0, 'Aplicacao_de_Recursos':0, 'Agricultura_Familiar':0, 'Tipo_de_Assistencia_Tecnica':0, 'Amparo_da_Operacao':0, 'Grupo_do_Cliente':0, 'Total_do_FNE_Risco':0, 'Tipo_de_Tratamento':0, 'Forma_de_Credito':0, 'Incidencia_de_IOF':0, 'Custo_Efetivo_Total':0, 'Atividade':0, 'Finalidade_do_Financiamento':0, 'Categoria_do_Produtor':0, 'Tipo_de_Recurso':0, 'Tipo_Lei':0, 'Operacao_Consignacao':0}, inplace = True)"
   ]
  },
  {
   "cell_type": "code",
   "execution_count": 4,
   "metadata": {},
   "outputs": [],
   "source": [
    "def remove_outlier(df_in, col_name):\n",
    "    q1 = df_in[col_name].quantile(0.25)\n",
    "    q3 = df_in[col_name].quantile(0.75)\n",
    "    iqr = q3-q1 #Interquartile range\n",
    "    fence_low  = q1-1.5*iqr\n",
    "    fence_high = q3+1.5*iqr\n",
    "    df_out = df_in.loc[(df_in[col_name] > fence_low) & (df_in[col_name] < fence_high)]\n",
    "    return df_out"
   ]
  },
  {
   "cell_type": "code",
   "execution_count": 3,
   "metadata": {},
   "outputs": [],
   "source": [
    "dataset = df[['Objetivo_da_Operacao', 'Tempo_Em_Anos', 'Pendencia_de_Cobertura_do_PROAGRO', 'Tipo_de_Assistencia_Tecnica', 'Tipo_de_Renegociacao', 'Faixa_valores', \n",
    "        'Tipo_Lei', 'Tem_Bonus', 'Tem_Debito_Evento_Anual', 'Tem_Debito_Evento_Mensal', 'E_Renegociada', 'Tem_Prejuizo']]\n"
   ]
  },
  {
   "cell_type": "code",
   "execution_count": 5,
   "metadata": {},
   "outputs": [
    {
     "data": {
      "text/html": [
       "<div>\n",
       "<style scoped>\n",
       "    .dataframe tbody tr th:only-of-type {\n",
       "        vertical-align: middle;\n",
       "    }\n",
       "\n",
       "    .dataframe tbody tr th {\n",
       "        vertical-align: top;\n",
       "    }\n",
       "\n",
       "    .dataframe thead th {\n",
       "        text-align: right;\n",
       "    }\n",
       "</style>\n",
       "<table border=\"1\" class=\"dataframe\">\n",
       "  <thead>\n",
       "    <tr style=\"text-align: right;\">\n",
       "      <th></th>\n",
       "      <th>Objetivo_da_Operacao</th>\n",
       "      <th>Tempo_Em_Anos</th>\n",
       "      <th>Pendencia_de_Cobertura_do_PROAGRO</th>\n",
       "      <th>Tipo_de_Assistencia_Tecnica</th>\n",
       "      <th>Tipo_de_Renegociacao</th>\n",
       "      <th>Faixa_valores</th>\n",
       "      <th>Tipo_Lei</th>\n",
       "      <th>Tem_Bonus</th>\n",
       "      <th>Tem_Debito_Evento_Anual</th>\n",
       "      <th>Tem_Debito_Evento_Mensal</th>\n",
       "      <th>E_Renegociada</th>\n",
       "      <th>Tem_Prejuizo</th>\n",
       "    </tr>\n",
       "  </thead>\n",
       "  <tbody>\n",
       "    <tr>\n",
       "      <th>1661</th>\n",
       "      <td>1.0</td>\n",
       "      <td>1.0</td>\n",
       "      <td>0.0</td>\n",
       "      <td>1.0</td>\n",
       "      <td>0.0</td>\n",
       "      <td>4.0</td>\n",
       "      <td>0.0</td>\n",
       "      <td>1.0</td>\n",
       "      <td>0.0</td>\n",
       "      <td>1.0</td>\n",
       "      <td>0.0</td>\n",
       "      <td>0.0</td>\n",
       "    </tr>\n",
       "    <tr>\n",
       "      <th>720</th>\n",
       "      <td>1.0</td>\n",
       "      <td>2.0</td>\n",
       "      <td>1.0</td>\n",
       "      <td>0.0</td>\n",
       "      <td>0.0</td>\n",
       "      <td>4.0</td>\n",
       "      <td>0.0</td>\n",
       "      <td>0.0</td>\n",
       "      <td>1.0</td>\n",
       "      <td>0.0</td>\n",
       "      <td>0.0</td>\n",
       "      <td>0.0</td>\n",
       "    </tr>\n",
       "    <tr>\n",
       "      <th>981</th>\n",
       "      <td>1.0</td>\n",
       "      <td>1.0</td>\n",
       "      <td>0.0</td>\n",
       "      <td>1.0</td>\n",
       "      <td>0.0</td>\n",
       "      <td>4.0</td>\n",
       "      <td>0.0</td>\n",
       "      <td>1.0</td>\n",
       "      <td>0.0</td>\n",
       "      <td>1.0</td>\n",
       "      <td>0.0</td>\n",
       "      <td>0.0</td>\n",
       "    </tr>\n",
       "    <tr>\n",
       "      <th>1261</th>\n",
       "      <td>1.0</td>\n",
       "      <td>1.0</td>\n",
       "      <td>0.0</td>\n",
       "      <td>1.0</td>\n",
       "      <td>0.0</td>\n",
       "      <td>4.0</td>\n",
       "      <td>0.0</td>\n",
       "      <td>1.0</td>\n",
       "      <td>0.0</td>\n",
       "      <td>1.0</td>\n",
       "      <td>0.0</td>\n",
       "      <td>0.0</td>\n",
       "    </tr>\n",
       "    <tr>\n",
       "      <th>719</th>\n",
       "      <td>1.0</td>\n",
       "      <td>1.0</td>\n",
       "      <td>1.0</td>\n",
       "      <td>0.0</td>\n",
       "      <td>0.0</td>\n",
       "      <td>4.0</td>\n",
       "      <td>0.0</td>\n",
       "      <td>0.0</td>\n",
       "      <td>0.0</td>\n",
       "      <td>1.0</td>\n",
       "      <td>0.0</td>\n",
       "      <td>0.0</td>\n",
       "    </tr>\n",
       "    <tr>\n",
       "      <th>699</th>\n",
       "      <td>1.0</td>\n",
       "      <td>2.0</td>\n",
       "      <td>1.0</td>\n",
       "      <td>0.0</td>\n",
       "      <td>0.0</td>\n",
       "      <td>4.0</td>\n",
       "      <td>0.0</td>\n",
       "      <td>0.0</td>\n",
       "      <td>1.0</td>\n",
       "      <td>0.0</td>\n",
       "      <td>0.0</td>\n",
       "      <td>0.0</td>\n",
       "    </tr>\n",
       "    <tr>\n",
       "      <th>1842</th>\n",
       "      <td>1.0</td>\n",
       "      <td>2.0</td>\n",
       "      <td>0.0</td>\n",
       "      <td>1.0</td>\n",
       "      <td>2.0</td>\n",
       "      <td>4.0</td>\n",
       "      <td>0.0</td>\n",
       "      <td>1.0</td>\n",
       "      <td>0.0</td>\n",
       "      <td>0.0</td>\n",
       "      <td>1.0</td>\n",
       "      <td>1.0</td>\n",
       "    </tr>\n",
       "    <tr>\n",
       "      <th>1572</th>\n",
       "      <td>1.0</td>\n",
       "      <td>2.0</td>\n",
       "      <td>0.0</td>\n",
       "      <td>1.0</td>\n",
       "      <td>0.0</td>\n",
       "      <td>4.0</td>\n",
       "      <td>0.0</td>\n",
       "      <td>1.0</td>\n",
       "      <td>0.0</td>\n",
       "      <td>1.0</td>\n",
       "      <td>0.0</td>\n",
       "      <td>0.0</td>\n",
       "    </tr>\n",
       "    <tr>\n",
       "      <th>39</th>\n",
       "      <td>1.0</td>\n",
       "      <td>1.0</td>\n",
       "      <td>1.0</td>\n",
       "      <td>1.0</td>\n",
       "      <td>0.0</td>\n",
       "      <td>4.0</td>\n",
       "      <td>0.0</td>\n",
       "      <td>1.0</td>\n",
       "      <td>0.0</td>\n",
       "      <td>1.0</td>\n",
       "      <td>0.0</td>\n",
       "      <td>0.0</td>\n",
       "    </tr>\n",
       "    <tr>\n",
       "      <th>1383</th>\n",
       "      <td>1.0</td>\n",
       "      <td>2.0</td>\n",
       "      <td>0.0</td>\n",
       "      <td>1.0</td>\n",
       "      <td>0.0</td>\n",
       "      <td>4.0</td>\n",
       "      <td>0.0</td>\n",
       "      <td>1.0</td>\n",
       "      <td>0.0</td>\n",
       "      <td>1.0</td>\n",
       "      <td>0.0</td>\n",
       "      <td>0.0</td>\n",
       "    </tr>\n",
       "  </tbody>\n",
       "</table>\n",
       "</div>"
      ],
      "text/plain": [
       "      Objetivo_da_Operacao  Tempo_Em_Anos  Pendencia_de_Cobertura_do_PROAGRO  \\\n",
       "1661                   1.0            1.0                                0.0   \n",
       "720                    1.0            2.0                                1.0   \n",
       "981                    1.0            1.0                                0.0   \n",
       "1261                   1.0            1.0                                0.0   \n",
       "719                    1.0            1.0                                1.0   \n",
       "699                    1.0            2.0                                1.0   \n",
       "1842                   1.0            2.0                                0.0   \n",
       "1572                   1.0            2.0                                0.0   \n",
       "39                     1.0            1.0                                1.0   \n",
       "1383                   1.0            2.0                                0.0   \n",
       "\n",
       "      Tipo_de_Assistencia_Tecnica  Tipo_de_Renegociacao  Faixa_valores  \\\n",
       "1661                          1.0                   0.0            4.0   \n",
       "720                           0.0                   0.0            4.0   \n",
       "981                           1.0                   0.0            4.0   \n",
       "1261                          1.0                   0.0            4.0   \n",
       "719                           0.0                   0.0            4.0   \n",
       "699                           0.0                   0.0            4.0   \n",
       "1842                          1.0                   2.0            4.0   \n",
       "1572                          1.0                   0.0            4.0   \n",
       "39                            1.0                   0.0            4.0   \n",
       "1383                          1.0                   0.0            4.0   \n",
       "\n",
       "      Tipo_Lei  Tem_Bonus  Tem_Debito_Evento_Anual  Tem_Debito_Evento_Mensal  \\\n",
       "1661       0.0        1.0                      0.0                       1.0   \n",
       "720        0.0        0.0                      1.0                       0.0   \n",
       "981        0.0        1.0                      0.0                       1.0   \n",
       "1261       0.0        1.0                      0.0                       1.0   \n",
       "719        0.0        0.0                      0.0                       1.0   \n",
       "699        0.0        0.0                      1.0                       0.0   \n",
       "1842       0.0        1.0                      0.0                       0.0   \n",
       "1572       0.0        1.0                      0.0                       1.0   \n",
       "39         0.0        1.0                      0.0                       1.0   \n",
       "1383       0.0        1.0                      0.0                       1.0   \n",
       "\n",
       "      E_Renegociada  Tem_Prejuizo  \n",
       "1661            0.0           0.0  \n",
       "720             0.0           0.0  \n",
       "981             0.0           0.0  \n",
       "1261            0.0           0.0  \n",
       "719             0.0           0.0  \n",
       "699             0.0           0.0  \n",
       "1842            1.0           1.0  \n",
       "1572            0.0           0.0  \n",
       "39              0.0           0.0  \n",
       "1383            0.0           0.0  "
      ]
     },
     "execution_count": 5,
     "metadata": {},
     "output_type": "execute_result"
    }
   ],
   "source": [
    "dataset.sample(10)"
   ]
  },
  {
   "cell_type": "markdown",
   "metadata": {},
   "source": [
    "# Seleção de variáveis e execução de modelos de Machine Learning"
   ]
  },
  {
   "cell_type": "code",
   "execution_count": 16,
   "metadata": {},
   "outputs": [],
   "source": [
    "#operações com chance de prejuizo\n",
    "X = df[['Objetivo_da_Operacao', 'Tempo_Em_Anos', 'Pendencia_de_Cobertura_do_PROAGRO', 'Tipo_de_Assistencia_Tecnica', 'Tipo_de_Renegociacao', 'Faixa_valores', \n",
    "        'Tipo_Lei', 'Tem_Bonus', 'Tem_Debito_Evento_Anual', 'Tem_Debito_Evento_Mensal', 'E_Renegociada']]\n",
    "\n",
    "y = df['Tem_Prejuizo']\n",
    "\n",
    "# Definindo as métricas de avaliação\n",
    "scoring = ['accuracy', 'precision','recall', 'f1', 'roc_auc']\n",
    "\n",
    "# Variaveis para armazenar o melhor classificador de cada modelo\n",
    "knn_best_estimator = \"\"\n",
    "knn_best_score = 0\n",
    "nb_best_estimator = \"\"\n",
    "nb_best_score = 0\n",
    "nb_distribution = \"\"\n",
    "dt_best_estimator = \"\"\n",
    "dt_best_score = 0\n",
    "rf_best_estimator = \"\"\n",
    "rf_best_score = 0\n",
    "mlp_best_estimator = \"\"\n",
    "mlp_best_score = 0\n",
    "svc_best_estimator = \"\"\n",
    "svc_best_score = 0\n",
    "svc_kernel = \"\""
   ]
  },
  {
   "cell_type": "markdown",
   "metadata": {},
   "source": [
    "## KNN"
   ]
  },
  {
   "cell_type": "code",
   "execution_count": 17,
   "metadata": {},
   "outputs": [],
   "source": [
    "# Instanciando o classificador\n",
    "knn = KNeighborsClassifier(n_jobs=-1)\n",
    "\n",
    "# Definindo alguns parametros para teste\n",
    "params = {\n",
    "    'n_neighbors': [2,3,5,10, 15,20],\n",
    "    'metric': ['euclidean','manhattan','chebyshev']\n",
    "}"
   ]
  },
  {
   "cell_type": "code",
   "execution_count": 18,
   "metadata": {},
   "outputs": [
    {
     "name": "stdout",
     "output_type": "stream",
     "text": [
      "Métrica de avaliacao:  accuracy\n",
      "Fitting 5 folds for each of 18 candidates, totalling 90 fits\n"
     ]
    },
    {
     "name": "stderr",
     "output_type": "stream",
     "text": [
      "[Parallel(n_jobs=-1)]: Using backend LokyBackend with 4 concurrent workers.\n",
      "[Parallel(n_jobs=-1)]: Done  56 tasks      | elapsed:    3.2s\n",
      "[Parallel(n_jobs=-1)]: Done  90 out of  90 | elapsed:    3.6s finished\n",
      "[Parallel(n_jobs=-1)]: Using backend LokyBackend with 4 concurrent workers.\n"
     ]
    },
    {
     "name": "stdout",
     "output_type": "stream",
     "text": [
      "Melhor classificador:  KNeighborsClassifier(metric='manhattan', n_jobs=-1, n_neighbors=2)\n",
      "Score:  0.8292685288280002\n",
      "\n",
      "Métrica de avaliacao:  precision\n",
      "Fitting 5 folds for each of 18 candidates, totalling 90 fits\n"
     ]
    },
    {
     "name": "stderr",
     "output_type": "stream",
     "text": [
      "[Parallel(n_jobs=-1)]: Done  76 tasks      | elapsed:    1.4s\n",
      "[Parallel(n_jobs=-1)]: Done  90 out of  90 | elapsed:    1.6s finished\n"
     ]
    },
    {
     "name": "stdout",
     "output_type": "stream",
     "text": [
      "Melhor classificador:  KNeighborsClassifier(metric='chebyshev', n_jobs=-1, n_neighbors=3)\n",
      "Score:  0.4884318601186071\n",
      "\n",
      "Métrica de avaliacao:  recall\n",
      "Fitting 5 folds for each of 18 candidates, totalling 90 fits\n"
     ]
    },
    {
     "name": "stderr",
     "output_type": "stream",
     "text": [
      "[Parallel(n_jobs=-1)]: Using backend LokyBackend with 4 concurrent workers.\n",
      "[Parallel(n_jobs=-1)]: Done  90 out of  90 | elapsed:    1.6s finished\n",
      "[Parallel(n_jobs=-1)]: Using backend LokyBackend with 4 concurrent workers.\n"
     ]
    },
    {
     "name": "stdout",
     "output_type": "stream",
     "text": [
      "Melhor classificador:  KNeighborsClassifier(metric='chebyshev', n_jobs=-1, n_neighbors=3)\n",
      "Score:  0.4688524590163934\n",
      "\n",
      "Métrica de avaliacao:  f1\n",
      "Fitting 5 folds for each of 18 candidates, totalling 90 fits\n"
     ]
    },
    {
     "name": "stderr",
     "output_type": "stream",
     "text": [
      "[Parallel(n_jobs=-1)]: Done  76 tasks      | elapsed:    1.4s\n",
      "[Parallel(n_jobs=-1)]: Done  90 out of  90 | elapsed:    1.6s finished\n",
      "[Parallel(n_jobs=-1)]: Using backend LokyBackend with 4 concurrent workers.\n"
     ]
    },
    {
     "name": "stdout",
     "output_type": "stream",
     "text": [
      "Melhor classificador:  KNeighborsClassifier(metric='chebyshev', n_jobs=-1, n_neighbors=3)\n",
      "Score:  0.37820822153523687\n",
      "\n",
      "Métrica de avaliacao:  roc_auc\n",
      "Fitting 5 folds for each of 18 candidates, totalling 90 fits\n",
      "Melhor classificador:  KNeighborsClassifier(metric='manhattan', n_jobs=-1, n_neighbors=10)\n",
      "Score:  0.6745439296026982\n",
      "\n"
     ]
    },
    {
     "name": "stderr",
     "output_type": "stream",
     "text": [
      "[Parallel(n_jobs=-1)]: Done  90 out of  90 | elapsed:    1.1s finished\n"
     ]
    }
   ],
   "source": [
    "# Instanciando o gridsearch e executando o modelo\n",
    "\n",
    "for score_item in scoring:\n",
    "    print('Métrica de avaliacao: ', score_item)\n",
    "    grid_search = GridSearchCV(estimator=knn,\n",
    "                           param_grid=params,\n",
    "                           cv = 5,\n",
    "                           n_jobs=-1, verbose=1, scoring=score_item)\n",
    "    #%%time\n",
    "    grid_search.fit(X, y)\n",
    "    best = grid_search.best_estimator_\n",
    "    print('Melhor classificador: ',best)\n",
    "    print('Score: ',grid_search.best_score_)\n",
    "    print()\n",
    "    if (knn_best_score < grid_search.best_score_):\n",
    "        knn_best_estimator = best\n",
    "        knn_best_score = grid_search.best_score_\n",
    "    "
   ]
  },
  {
   "cell_type": "markdown",
   "metadata": {},
   "source": [
    "## Naive Bayes"
   ]
  },
  {
   "cell_type": "code",
   "execution_count": 19,
   "metadata": {},
   "outputs": [
    {
     "name": "stderr",
     "output_type": "stream",
     "text": [
      "[Parallel(n_jobs=-1)]: Using backend LokyBackend with 4 concurrent workers.\n"
     ]
    },
    {
     "name": "stdout",
     "output_type": "stream",
     "text": [
      "Métrica de avaliacao:  accuracy\n",
      "Fitting 5 folds for each of 10 candidates, totalling 50 fits\n"
     ]
    },
    {
     "name": "stderr",
     "output_type": "stream",
     "text": [
      "[Parallel(n_jobs=-1)]: Done  50 out of  50 | elapsed:    0.2s finished\n",
      "[Parallel(n_jobs=-1)]: Using backend LokyBackend with 4 concurrent workers.\n"
     ]
    },
    {
     "name": "stdout",
     "output_type": "stream",
     "text": [
      "Melhor classificador:  GaussianNB(var_smoothing=1.0)\n",
      "Score:  0.8657568862855207\n",
      "\n",
      "Métrica de avaliacao:  precision\n",
      "Fitting 5 folds for each of 10 candidates, totalling 50 fits\n"
     ]
    },
    {
     "name": "stderr",
     "output_type": "stream",
     "text": [
      "[Parallel(n_jobs=-1)]: Done  50 out of  50 | elapsed:    0.2s finished\n",
      "[Parallel(n_jobs=-1)]: Using backend LokyBackend with 4 concurrent workers.\n"
     ]
    },
    {
     "name": "stdout",
     "output_type": "stream",
     "text": [
      "Melhor classificador:  GaussianNB(var_smoothing=1e-05)\n",
      "Score:  0.42541884869889984\n",
      "\n",
      "Métrica de avaliacao:  recall\n",
      "Fitting 5 folds for each of 10 candidates, totalling 50 fits\n"
     ]
    },
    {
     "name": "stderr",
     "output_type": "stream",
     "text": [
      "[Parallel(n_jobs=-1)]: Done  50 out of  50 | elapsed:    0.2s finished\n",
      "[Parallel(n_jobs=-1)]: Using backend LokyBackend with 4 concurrent workers.\n",
      "[Parallel(n_jobs=-1)]: Done  50 out of  50 | elapsed:    0.2s finished\n"
     ]
    },
    {
     "name": "stdout",
     "output_type": "stream",
     "text": [
      "Melhor classificador:  GaussianNB(var_smoothing=1e-05)\n",
      "Score:  0.6032786885245902\n",
      "\n",
      "Métrica de avaliacao:  f1\n",
      "Fitting 5 folds for each of 10 candidates, totalling 50 fits\n",
      "Melhor classificador:  GaussianNB(var_smoothing=1e-05)\n",
      "Score:  0.45515752366465206\n",
      "\n",
      "Métrica de avaliacao:  roc_auc\n",
      "Fitting 5 folds for each of 10 candidates, totalling 50 fits\n"
     ]
    },
    {
     "name": "stderr",
     "output_type": "stream",
     "text": [
      "[Parallel(n_jobs=-1)]: Using backend LokyBackend with 4 concurrent workers.\n"
     ]
    },
    {
     "name": "stdout",
     "output_type": "stream",
     "text": [
      "Melhor classificador:  GaussianNB(var_smoothing=0.01)\n",
      "Score:  0.7443198471376744\n",
      "\n"
     ]
    },
    {
     "name": "stderr",
     "output_type": "stream",
     "text": [
      "[Parallel(n_jobs=-1)]: Done  50 out of  50 | elapsed:    0.2s finished\n"
     ]
    }
   ],
   "source": [
    "nb = GaussianNB()\n",
    "params = {'var_smoothing': np.logspace(0,-9, num=10)}\n",
    "\n",
    "for score_item in scoring:\n",
    "    print('Métrica de avaliacao: ', score_item)\n",
    "    grid_search = GridSearchCV(estimator=nb,\n",
    "                            param_grid=params,\n",
    "                            cv = 5,\n",
    "                            n_jobs=-1, verbose=1, scoring=score_item)\n",
    "    #%%time\n",
    "    grid_search.fit(X, y)\n",
    "    best = grid_search.best_estimator_\n",
    "    print('Melhor classificador: ',best)\n",
    "    print('Score: ',grid_search.best_score_)\n",
    "    print()\n",
    "    if (nb_best_score < grid_search.best_score_):\n",
    "        nb_best_estimator = best\n",
    "        nb_best_score = grid_search.best_score_\n",
    "        nb_distribution = 'Gaussian'"
   ]
  },
  {
   "cell_type": "code",
   "execution_count": 20,
   "metadata": {},
   "outputs": [
    {
     "name": "stderr",
     "output_type": "stream",
     "text": [
      "[Parallel(n_jobs=-1)]: Using backend LokyBackend with 4 concurrent workers.\n",
      "[Parallel(n_jobs=-1)]: Done  23 out of  30 | elapsed:    0.1s remaining:    0.0s\n",
      "[Parallel(n_jobs=-1)]: Done  30 out of  30 | elapsed:    0.1s finished\n",
      "[Parallel(n_jobs=-1)]: Using backend LokyBackend with 4 concurrent workers.\n"
     ]
    },
    {
     "name": "stdout",
     "output_type": "stream",
     "text": [
      "Métrica de avaliacao:  accuracy\n",
      "Fitting 5 folds for each of 6 candidates, totalling 30 fits\n",
      "Melhor classificador:  MultinomialNB()\n",
      "Score:  0.7892491649319844\n",
      "\n",
      "Métrica de avaliacao:  precision\n",
      "Fitting 5 folds for each of 6 candidates, totalling 30 fits\n"
     ]
    },
    {
     "name": "stderr",
     "output_type": "stream",
     "text": [
      "[Parallel(n_jobs=-1)]: Done  30 out of  30 | elapsed:    0.1s finished\n",
      "[Parallel(n_jobs=-1)]: Using backend LokyBackend with 4 concurrent workers.\n",
      "[Parallel(n_jobs=-1)]: Done  23 out of  30 | elapsed:    0.1s remaining:    0.0s\n",
      "[Parallel(n_jobs=-1)]: Done  30 out of  30 | elapsed:    0.1s finished\n",
      "[Parallel(n_jobs=-1)]: Using backend LokyBackend with 4 concurrent workers.\n"
     ]
    },
    {
     "name": "stdout",
     "output_type": "stream",
     "text": [
      "Melhor classificador:  MultinomialNB()\n",
      "Score:  0.3467374950416072\n",
      "\n",
      "Métrica de avaliacao:  recall\n",
      "Fitting 5 folds for each of 6 candidates, totalling 30 fits\n",
      "Melhor classificador:  MultinomialNB(alpha=0.1)\n",
      "Score:  0.4655737704918034\n",
      "\n",
      "Métrica de avaliacao:  f1\n",
      "Fitting 5 folds for each of 6 candidates, totalling 30 fits\n",
      "Melhor classificador:  MultinomialNB()\n",
      "Score:  0.3637544502078056\n",
      "\n",
      "Métrica de avaliacao:  roc_auc\n",
      "Fitting 5 folds for each of 6 candidates, totalling 30 fits\n",
      "Melhor classificador:  MultinomialNB()\n",
      "Score:  0.7187521452327609\n",
      "\n"
     ]
    },
    {
     "name": "stderr",
     "output_type": "stream",
     "text": [
      "[Parallel(n_jobs=-1)]: Done  23 out of  30 | elapsed:    0.1s remaining:    0.0s\n",
      "[Parallel(n_jobs=-1)]: Done  30 out of  30 | elapsed:    0.1s finished\n",
      "[Parallel(n_jobs=-1)]: Using backend LokyBackend with 4 concurrent workers.\n",
      "[Parallel(n_jobs=-1)]: Done  30 out of  30 | elapsed:    0.1s finished\n"
     ]
    }
   ],
   "source": [
    "nb = MultinomialNB()\n",
    "params = {\n",
    "    'alpha': [0.1,0.2,0.3,0.5,0.7,1.0]\n",
    "}\n",
    "\n",
    "for score_item in scoring:\n",
    "    print('Métrica de avaliacao: ', score_item)\n",
    "    grid_search = GridSearchCV(estimator=nb,\n",
    "                            param_grid=params,\n",
    "                            cv = 5,\n",
    "                            n_jobs=-1, verbose=1, scoring=score_item)\n",
    "    #%%time\n",
    "    grid_search.fit(X, y)\n",
    "    best = grid_search.best_estimator_\n",
    "    print('Melhor classificador: ',best)\n",
    "    print('Score: ',grid_search.best_score_)\n",
    "    print()\n",
    "    if (nb_best_score < grid_search.best_score_):\n",
    "        nb_best_estimator = best\n",
    "        nb_best_score = grid_search.best_score_\n",
    "        nb_distribution = 'Multinomial'"
   ]
  },
  {
   "cell_type": "code",
   "execution_count": 21,
   "metadata": {
    "scrolled": false
   },
   "outputs": [
    {
     "name": "stderr",
     "output_type": "stream",
     "text": [
      "[Parallel(n_jobs=-1)]: Using backend LokyBackend with 4 concurrent workers.\n"
     ]
    },
    {
     "name": "stdout",
     "output_type": "stream",
     "text": [
      "Métrica de avaliacao:  accuracy\n",
      "Fitting 5 folds for each of 6 candidates, totalling 30 fits\n",
      "Melhor classificador:  BernoulliNB(alpha=0.1)\n",
      "Score:  0.7844294912136323\n",
      "\n",
      "Métrica de avaliacao:  precision\n",
      "Fitting 5 folds for each of 6 candidates, totalling 30 fits\n"
     ]
    },
    {
     "name": "stderr",
     "output_type": "stream",
     "text": [
      "[Parallel(n_jobs=-1)]: Done  23 out of  30 | elapsed:    0.2s remaining:    0.0s\n",
      "[Parallel(n_jobs=-1)]: Done  30 out of  30 | elapsed:    0.2s finished\n",
      "[Parallel(n_jobs=-1)]: Using backend LokyBackend with 4 concurrent workers.\n",
      "[Parallel(n_jobs=-1)]: Done  23 out of  30 | elapsed:    0.1s remaining:    0.0s\n",
      "[Parallel(n_jobs=-1)]: Done  30 out of  30 | elapsed:    0.1s finished\n",
      "[Parallel(n_jobs=-1)]: Using backend LokyBackend with 4 concurrent workers.\n"
     ]
    },
    {
     "name": "stdout",
     "output_type": "stream",
     "text": [
      "Melhor classificador:  BernoulliNB(alpha=0.1)\n",
      "Score:  0.4395043028624233\n",
      "\n",
      "Métrica de avaliacao:  recall\n",
      "Fitting 5 folds for each of 6 candidates, totalling 30 fits\n"
     ]
    },
    {
     "name": "stderr",
     "output_type": "stream",
     "text": [
      "[Parallel(n_jobs=-1)]: Done  23 out of  30 | elapsed:    0.1s remaining:    0.0s\n",
      "[Parallel(n_jobs=-1)]: Done  30 out of  30 | elapsed:    0.1s finished\n",
      "[Parallel(n_jobs=-1)]: Using backend LokyBackend with 4 concurrent workers.\n"
     ]
    },
    {
     "name": "stdout",
     "output_type": "stream",
     "text": [
      "Melhor classificador:  BernoulliNB(alpha=0.1)\n",
      "Score:  0.5836065573770491\n",
      "\n",
      "Métrica de avaliacao:  f1\n",
      "Fitting 5 folds for each of 6 candidates, totalling 30 fits\n"
     ]
    },
    {
     "name": "stderr",
     "output_type": "stream",
     "text": [
      "[Parallel(n_jobs=-1)]: Done  23 out of  30 | elapsed:    0.1s remaining:    0.0s\n",
      "[Parallel(n_jobs=-1)]: Done  30 out of  30 | elapsed:    0.2s finished\n",
      "[Parallel(n_jobs=-1)]: Using backend LokyBackend with 4 concurrent workers.\n"
     ]
    },
    {
     "name": "stdout",
     "output_type": "stream",
     "text": [
      "Melhor classificador:  BernoulliNB(alpha=0.1)\n",
      "Score:  0.46447163527341384\n",
      "\n",
      "Métrica de avaliacao:  roc_auc\n",
      "Fitting 5 folds for each of 6 candidates, totalling 30 fits\n",
      "Melhor classificador:  BernoulliNB(alpha=0.1)\n",
      "Score:  0.7714813894904188\n",
      "\n"
     ]
    },
    {
     "name": "stderr",
     "output_type": "stream",
     "text": [
      "[Parallel(n_jobs=-1)]: Done  23 out of  30 | elapsed:    0.1s remaining:    0.0s\n",
      "[Parallel(n_jobs=-1)]: Done  30 out of  30 | elapsed:    0.1s finished\n"
     ]
    }
   ],
   "source": [
    "nb = BernoulliNB()\n",
    "params = {\n",
    "    'alpha': [0.1,0.2,0.3,0.5,0.7,1.0]\n",
    "}\n",
    "for score_item in scoring:\n",
    "    print('Métrica de avaliacao: ', score_item)\n",
    "    grid_search = GridSearchCV(estimator=nb,\n",
    "                            param_grid=params,\n",
    "                            cv = 5,\n",
    "                            n_jobs=-1, verbose=1, scoring=score_item)\n",
    "    #%%time\n",
    "    grid_search.fit(X, y)\n",
    "    best = grid_search.best_estimator_\n",
    "    print('Melhor classificador: ',best)\n",
    "    print('Score: ',grid_search.best_score_)\n",
    "    print()\n",
    "    if (nb_best_score < grid_search.best_score_):\n",
    "        nb_best_estimator = best\n",
    "        nb_best_score = grid_search.best_score_\n",
    "        nb_distribution = 'Bernoulli'"
   ]
  },
  {
   "cell_type": "markdown",
   "metadata": {},
   "source": [
    "## Decision Tree"
   ]
  },
  {
   "cell_type": "code",
   "execution_count": 22,
   "metadata": {},
   "outputs": [
    {
     "name": "stdout",
     "output_type": "stream",
     "text": [
      "Métrica de avaliacao:  accuracy\n",
      "Fitting 5 folds for each of 60 candidates, totalling 300 fits\n"
     ]
    },
    {
     "name": "stderr",
     "output_type": "stream",
     "text": [
      "[Parallel(n_jobs=-1)]: Using backend LokyBackend with 4 concurrent workers.\n",
      "[Parallel(n_jobs=-1)]: Done 250 tasks      | elapsed:    1.0s\n",
      "[Parallel(n_jobs=-1)]: Done 300 out of 300 | elapsed:    1.2s finished\n",
      "[Parallel(n_jobs=-1)]: Using backend LokyBackend with 4 concurrent workers.\n"
     ]
    },
    {
     "name": "stdout",
     "output_type": "stream",
     "text": [
      "Melhor classificador:  DecisionTreeClassifier(max_depth=2, min_samples_leaf=100, random_state=42)\n",
      "Score:  0.884665730745026\n",
      "\n",
      "Métrica de avaliacao:  precision\n",
      "Fitting 5 folds for each of 60 candidates, totalling 300 fits\n"
     ]
    },
    {
     "name": "stderr",
     "output_type": "stream",
     "text": [
      "[Parallel(n_jobs=-1)]: Done 235 tasks      | elapsed:    0.9s\n",
      "[Parallel(n_jobs=-1)]: Done 300 out of 300 | elapsed:    1.0s finished\n",
      "[Parallel(n_jobs=-1)]: Using backend LokyBackend with 4 concurrent workers.\n"
     ]
    },
    {
     "name": "stdout",
     "output_type": "stream",
     "text": [
      "Melhor classificador:  DecisionTreeClassifier(max_depth=2, min_samples_leaf=100, random_state=42)\n",
      "Score:  0.6018078048923996\n",
      "\n",
      "Métrica de avaliacao:  recall\n",
      "Fitting 5 folds for each of 60 candidates, totalling 300 fits\n"
     ]
    },
    {
     "name": "stderr",
     "output_type": "stream",
     "text": [
      "[Parallel(n_jobs=-1)]: Done 250 tasks      | elapsed:    0.8s\n",
      "[Parallel(n_jobs=-1)]: Done 300 out of 300 | elapsed:    1.0s finished\n",
      "[Parallel(n_jobs=-1)]: Using backend LokyBackend with 4 concurrent workers.\n"
     ]
    },
    {
     "name": "stdout",
     "output_type": "stream",
     "text": [
      "Melhor classificador:  DecisionTreeClassifier(max_depth=2, min_samples_leaf=100, random_state=42)\n",
      "Score:  0.5442622950819672\n",
      "\n",
      "Métrica de avaliacao:  f1\n",
      "Fitting 5 folds for each of 60 candidates, totalling 300 fits\n"
     ]
    },
    {
     "name": "stderr",
     "output_type": "stream",
     "text": [
      "[Parallel(n_jobs=-1)]: Done 250 tasks      | elapsed:    0.8s\n",
      "[Parallel(n_jobs=-1)]: Done 300 out of 300 | elapsed:    1.0s finished\n"
     ]
    },
    {
     "name": "stdout",
     "output_type": "stream",
     "text": [
      "Melhor classificador:  DecisionTreeClassifier(max_depth=2, min_samples_leaf=100, random_state=42)\n",
      "Score:  0.5406673769959096\n",
      "\n",
      "Métrica de avaliacao:  roc_auc\n",
      "Fitting 5 folds for each of 60 candidates, totalling 300 fits\n"
     ]
    },
    {
     "name": "stderr",
     "output_type": "stream",
     "text": [
      "[Parallel(n_jobs=-1)]: Using backend LokyBackend with 4 concurrent workers.\n",
      "[Parallel(n_jobs=-1)]: Done 250 tasks      | elapsed:    0.9s\n"
     ]
    },
    {
     "name": "stdout",
     "output_type": "stream",
     "text": [
      "Melhor classificador:  DecisionTreeClassifier(max_depth=2, min_samples_leaf=5, random_state=42)\n",
      "Score:  0.7573554618658342\n",
      "\n"
     ]
    },
    {
     "name": "stderr",
     "output_type": "stream",
     "text": [
      "[Parallel(n_jobs=-1)]: Done 300 out of 300 | elapsed:    1.1s finished\n"
     ]
    }
   ],
   "source": [
    "dt = DecisionTreeClassifier(random_state=42)\n",
    "params = {\n",
    "    'criterion': ['gini','entropy'],\n",
    "    'max_depth': [2,3,5,10,20],\n",
    "    'min_samples_leaf': [5,10,20,50,100,200]\n",
    "}\n",
    "for score_item in scoring:\n",
    "    print('Métrica de avaliacao: ', score_item)\n",
    "    grid_search = GridSearchCV(estimator=dt,\n",
    "                            param_grid=params,\n",
    "                            cv = 5,\n",
    "                            n_jobs=-1, verbose=1, scoring=score_item)\n",
    "    #%%time\n",
    "    grid_search.fit(X, y)\n",
    "    best = grid_search.best_estimator_\n",
    "    print('Melhor classificador: ',best)\n",
    "    print('Score: ',grid_search.best_score_)\n",
    "    print()\n",
    "    if (dt_best_score < grid_search.best_score_):\n",
    "        dt_best_estimator = best\n",
    "        dt_best_score = grid_search.best_score_"
   ]
  },
  {
   "cell_type": "markdown",
   "metadata": {},
   "source": [
    "## Random Forest"
   ]
  },
  {
   "cell_type": "code",
   "execution_count": 23,
   "metadata": {},
   "outputs": [
    {
     "name": "stderr",
     "output_type": "stream",
     "text": [
      "[Parallel(n_jobs=-1)]: Using backend LokyBackend with 4 concurrent workers.\n"
     ]
    },
    {
     "name": "stdout",
     "output_type": "stream",
     "text": [
      "Métrica de avaliacao:  accuracy\n",
      "Fitting 4 folds for each of 588 candidates, totalling 2352 fits\n"
     ]
    },
    {
     "name": "stderr",
     "output_type": "stream",
     "text": [
      "[Parallel(n_jobs=-1)]: Done  76 tasks      | elapsed:    3.8s\n",
      "[Parallel(n_jobs=-1)]: Done 376 tasks      | elapsed:   19.8s\n",
      "[Parallel(n_jobs=-1)]: Done 876 tasks      | elapsed:   52.1s\n",
      "[Parallel(n_jobs=-1)]: Done 1576 tasks      | elapsed:  1.6min\n",
      "[Parallel(n_jobs=-1)]: Done 2352 out of 2352 | elapsed:  2.5min finished\n",
      "[Parallel(n_jobs=-1)]: Using backend LokyBackend with 4 concurrent workers.\n"
     ]
    },
    {
     "name": "stdout",
     "output_type": "stream",
     "text": [
      "Melhor classificador:  RandomForestClassifier(criterion='entropy', max_depth=5, min_samples_leaf=10,\n",
      "                       n_estimators=25, random_state=42)\n",
      "Score:  0.9018485915492958\n",
      "\n",
      "Métrica de avaliacao:  precision\n",
      "Fitting 4 folds for each of 588 candidates, totalling 2352 fits\n"
     ]
    },
    {
     "name": "stderr",
     "output_type": "stream",
     "text": [
      "[Parallel(n_jobs=-1)]: Done  76 tasks      | elapsed:    5.3s\n",
      "[Parallel(n_jobs=-1)]: Done 376 tasks      | elapsed:   27.0s\n",
      "[Parallel(n_jobs=-1)]: Done 876 tasks      | elapsed:  1.0min\n",
      "[Parallel(n_jobs=-1)]: Done 1576 tasks      | elapsed:  1.8min\n",
      "[Parallel(n_jobs=-1)]: Done 2352 out of 2352 | elapsed:  2.8min finished\n",
      "[Parallel(n_jobs=-1)]: Using backend LokyBackend with 4 concurrent workers.\n"
     ]
    },
    {
     "name": "stdout",
     "output_type": "stream",
     "text": [
      "Melhor classificador:  RandomForestClassifier(criterion='entropy', max_depth=10, min_samples_leaf=20,\n",
      "                       n_estimators=50, random_state=42)\n",
      "Score:  0.790625\n",
      "\n",
      "Métrica de avaliacao:  recall\n",
      "Fitting 4 folds for each of 588 candidates, totalling 2352 fits\n"
     ]
    },
    {
     "name": "stderr",
     "output_type": "stream",
     "text": [
      "[Parallel(n_jobs=-1)]: Done  76 tasks      | elapsed:    5.7s\n",
      "[Parallel(n_jobs=-1)]: Done 376 tasks      | elapsed:   27.7s\n",
      "[Parallel(n_jobs=-1)]: Done 876 tasks      | elapsed:  1.0min\n",
      "[Parallel(n_jobs=-1)]: Done 1576 tasks      | elapsed:  1.8min\n",
      "[Parallel(n_jobs=-1)]: Done 2352 out of 2352 | elapsed:  2.7min finished\n"
     ]
    },
    {
     "name": "stdout",
     "output_type": "stream",
     "text": [
      "Melhor classificador:  RandomForestClassifier(max_depth=3, min_samples_leaf=5, n_estimators=200,\n",
      "                       random_state=42)\n",
      "Score:  0.4124658236500342\n",
      "\n",
      "Métrica de avaliacao:  f1\n",
      "Fitting 4 folds for each of 588 candidates, totalling 2352 fits\n"
     ]
    },
    {
     "name": "stderr",
     "output_type": "stream",
     "text": [
      "[Parallel(n_jobs=-1)]: Using backend LokyBackend with 4 concurrent workers.\n",
      "[Parallel(n_jobs=-1)]: Done  76 tasks      | elapsed:    4.9s\n",
      "[Parallel(n_jobs=-1)]: Done 376 tasks      | elapsed:   26.2s\n",
      "[Parallel(n_jobs=-1)]: Done 876 tasks      | elapsed:  1.0min\n",
      "[Parallel(n_jobs=-1)]: Done 1576 tasks      | elapsed:  1.8min\n",
      "[Parallel(n_jobs=-1)]: Done 2352 out of 2352 | elapsed:  2.7min finished\n",
      "[Parallel(n_jobs=-1)]: Using backend LokyBackend with 4 concurrent workers.\n"
     ]
    },
    {
     "name": "stdout",
     "output_type": "stream",
     "text": [
      "Melhor classificador:  RandomForestClassifier(criterion='entropy', max_depth=3, min_samples_leaf=20,\n",
      "                       n_estimators=75, random_state=42)\n",
      "Score:  0.4627375453006636\n",
      "\n",
      "Métrica de avaliacao:  roc_auc\n",
      "Fitting 4 folds for each of 588 candidates, totalling 2352 fits\n"
     ]
    },
    {
     "name": "stderr",
     "output_type": "stream",
     "text": [
      "[Parallel(n_jobs=-1)]: Done  76 tasks      | elapsed:    4.8s\n",
      "[Parallel(n_jobs=-1)]: Done 376 tasks      | elapsed:   25.5s\n",
      "[Parallel(n_jobs=-1)]: Done 876 tasks      | elapsed:  1.0min\n",
      "[Parallel(n_jobs=-1)]: Done 1576 tasks      | elapsed:  1.9min\n"
     ]
    },
    {
     "name": "stdout",
     "output_type": "stream",
     "text": [
      "Melhor classificador:  RandomForestClassifier(criterion='entropy', max_depth=5, min_samples_leaf=10,\n",
      "                       n_estimators=50, random_state=42)\n",
      "Score:  0.834844404520775\n",
      "\n",
      "Tempo total:  809.0458266735077\n"
     ]
    },
    {
     "name": "stderr",
     "output_type": "stream",
     "text": [
      "[Parallel(n_jobs=-1)]: Done 2352 out of 2352 | elapsed:  2.8min finished\n"
     ]
    }
   ],
   "source": [
    "start_time = time.time()\n",
    "rf = RandomForestClassifier(random_state=42)\n",
    "params = {\n",
    "    'criterion': ['gini','entropy'],\n",
    "    'max_depth': [2,3,5,10,20,40],\n",
    "    'min_samples_leaf': [5,10,20,50,75,100,200],\n",
    "    'n_estimators': [10,25,30,50,75,100,200]\n",
    "}\n",
    "for score_item in scoring:\n",
    "    print('Métrica de avaliacao: ', score_item)\n",
    "    grid_search = GridSearchCV(estimator=rf,\n",
    "                            param_grid=params,\n",
    "                            cv = 4,\n",
    "                            n_jobs=-1, verbose=1, scoring=score_item)\n",
    "    #%%time\n",
    "    grid_search.fit(X, y)\n",
    "    best = grid_search.best_estimator_\n",
    "    print('Melhor classificador: ',best)\n",
    "    print('Score: ',grid_search.best_score_)\n",
    "    print()\n",
    "    if (rf_best_score < grid_search.best_score_):\n",
    "        rf_best_estimator = best\n",
    "        rf_best_score = grid_search.best_score_\n",
    "end_time = time.time()\n",
    "print('Tempo total: ', end_time-start_time)"
   ]
  },
  {
   "cell_type": "code",
   "execution_count": 24,
   "metadata": {},
   "outputs": [
    {
     "name": "stderr",
     "output_type": "stream",
     "text": [
      "[Parallel(n_jobs=-1)]: Using backend LokyBackend with 4 concurrent workers.\n"
     ]
    },
    {
     "name": "stdout",
     "output_type": "stream",
     "text": [
      "Métrica de avaliacao:  accuracy\n",
      "Fitting 5 folds for each of 1 candidates, totalling 5 fits\n"
     ]
    },
    {
     "name": "stderr",
     "output_type": "stream",
     "text": [
      "[Parallel(n_jobs=-1)]: Done   5 out of   5 | elapsed:    0.3s finished\n",
      "[Parallel(n_jobs=-1)]: Using backend LokyBackend with 4 concurrent workers.\n"
     ]
    },
    {
     "name": "stdout",
     "output_type": "stream",
     "text": [
      "Melhor classificador:  RandomForestClassifier(criterion='entropy', max_depth=20, min_samples_leaf=5,\n",
      "                       n_estimators=50, random_state=42)\n",
      "Score:  0.8490593987510288\n",
      "\n",
      "Métrica de avaliacao:  precision\n",
      "Fitting 5 folds for each of 1 candidates, totalling 5 fits\n"
     ]
    },
    {
     "name": "stderr",
     "output_type": "stream",
     "text": [
      "[Parallel(n_jobs=-1)]: Done   5 out of   5 | elapsed:    0.4s finished\n",
      "[Parallel(n_jobs=-1)]: Using backend LokyBackend with 4 concurrent workers.\n"
     ]
    },
    {
     "name": "stdout",
     "output_type": "stream",
     "text": [
      "Melhor classificador:  RandomForestClassifier(criterion='entropy', max_depth=20, min_samples_leaf=5,\n",
      "                       n_estimators=50, random_state=42)\n",
      "Score:  0.39532019704433496\n",
      "\n",
      "Métrica de avaliacao:  recall\n",
      "Fitting 5 folds for each of 1 candidates, totalling 5 fits\n"
     ]
    },
    {
     "name": "stderr",
     "output_type": "stream",
     "text": [
      "[Parallel(n_jobs=-1)]: Done   5 out of   5 | elapsed:    0.4s finished\n",
      "[Parallel(n_jobs=-1)]: Using backend LokyBackend with 4 concurrent workers.\n"
     ]
    },
    {
     "name": "stdout",
     "output_type": "stream",
     "text": [
      "Melhor classificador:  RandomForestClassifier(criterion='entropy', max_depth=20, min_samples_leaf=5,\n",
      "                       n_estimators=50, random_state=42)\n",
      "Score:  0.37377049180327865\n",
      "\n",
      "Métrica de avaliacao:  f1\n",
      "Fitting 5 folds for each of 1 candidates, totalling 5 fits\n"
     ]
    },
    {
     "name": "stderr",
     "output_type": "stream",
     "text": [
      "[Parallel(n_jobs=-1)]: Done   5 out of   5 | elapsed:    0.3s finished\n",
      "[Parallel(n_jobs=-1)]: Using backend LokyBackend with 4 concurrent workers.\n"
     ]
    },
    {
     "name": "stdout",
     "output_type": "stream",
     "text": [
      "Melhor classificador:  RandomForestClassifier(criterion='entropy', max_depth=20, min_samples_leaf=5,\n",
      "                       n_estimators=50, random_state=42)\n",
      "Score:  0.3454539568880273\n",
      "\n",
      "Métrica de avaliacao:  roc_auc\n",
      "Fitting 5 folds for each of 1 candidates, totalling 5 fits\n",
      "Melhor classificador:  RandomForestClassifier(criterion='entropy', max_depth=20, min_samples_leaf=5,\n",
      "                       n_estimators=50, random_state=42)\n",
      "Score:  0.7163721411630386\n",
      "\n"
     ]
    },
    {
     "name": "stderr",
     "output_type": "stream",
     "text": [
      "[Parallel(n_jobs=-1)]: Done   5 out of   5 | elapsed:    0.3s finished\n"
     ]
    }
   ],
   "source": [
    "#Classificador 1\n",
    "rf = RandomForestClassifier(random_state=42)\n",
    "params = {\n",
    "    'criterion': ['entropy'],\n",
    "    'max_depth': [20],\n",
    "    'min_samples_leaf': [5],\n",
    "    'n_estimators': [50]\n",
    "}\n",
    "for score_item in scoring:\n",
    "    print('Métrica de avaliacao: ', score_item)\n",
    "    grid_search = GridSearchCV(estimator=rf,\n",
    "                            param_grid=params,\n",
    "                            cv = 5,\n",
    "                            n_jobs=-1, verbose=1, scoring=score_item)\n",
    "    #%%time\n",
    "    grid_search.fit(X, y)\n",
    "    best = grid_search.best_estimator_\n",
    "    print('Melhor classificador: ',best)\n",
    "    print('Score: ',grid_search.best_score_)\n",
    "    print()\n",
    "    if (rf_best_score < grid_search.best_score_):\n",
    "        rf_best_estimator = best\n",
    "        rf_best_score = grid_search.best_score_"
   ]
  },
  {
   "cell_type": "code",
   "execution_count": 25,
   "metadata": {},
   "outputs": [
    {
     "name": "stderr",
     "output_type": "stream",
     "text": [
      "[Parallel(n_jobs=-1)]: Using backend LokyBackend with 4 concurrent workers.\n"
     ]
    },
    {
     "name": "stdout",
     "output_type": "stream",
     "text": [
      "Métrica de avaliacao:  accuracy\n",
      "Fitting 5 folds for each of 1 candidates, totalling 5 fits\n",
      "Melhor classificador:  RandomForestClassifier(criterion='entropy', max_depth=10, min_samples_leaf=20,\n",
      "                       n_estimators=10, random_state=42)\n",
      "Score:  0.8547814300237209\n",
      "\n",
      "Métrica de avaliacao:  precision\n",
      "Fitting 5 folds for each of 1 candidates, totalling 5 fits\n"
     ]
    },
    {
     "name": "stderr",
     "output_type": "stream",
     "text": [
      "[Parallel(n_jobs=-1)]: Done   5 out of   5 | elapsed:    0.1s finished\n",
      "[Parallel(n_jobs=-1)]: Using backend LokyBackend with 4 concurrent workers.\n",
      "[Parallel(n_jobs=-1)]: Done   5 out of   5 | elapsed:    0.1s finished\n",
      "[Parallel(n_jobs=-1)]: Using backend LokyBackend with 4 concurrent workers.\n",
      "[Parallel(n_jobs=-1)]: Done   5 out of   5 | elapsed:    0.1s finished\n",
      "[Parallel(n_jobs=-1)]: Using backend LokyBackend with 4 concurrent workers.\n"
     ]
    },
    {
     "name": "stdout",
     "output_type": "stream",
     "text": [
      "Melhor classificador:  RandomForestClassifier(criterion='entropy', max_depth=10, min_samples_leaf=20,\n",
      "                       n_estimators=10, random_state=42)\n",
      "Score:  0.47287072598559243\n",
      "\n",
      "Métrica de avaliacao:  recall\n",
      "Fitting 5 folds for each of 1 candidates, totalling 5 fits\n",
      "Melhor classificador:  RandomForestClassifier(criterion='entropy', max_depth=10, min_samples_leaf=20,\n",
      "                       n_estimators=10, random_state=42)\n",
      "Score:  0.42950819672131135\n",
      "\n",
      "Métrica de avaliacao:  f1\n",
      "Fitting 5 folds for each of 1 candidates, totalling 5 fits\n"
     ]
    },
    {
     "name": "stderr",
     "output_type": "stream",
     "text": [
      "[Parallel(n_jobs=-1)]: Done   5 out of   5 | elapsed:    0.1s finished\n",
      "[Parallel(n_jobs=-1)]: Using backend LokyBackend with 4 concurrent workers.\n"
     ]
    },
    {
     "name": "stdout",
     "output_type": "stream",
     "text": [
      "Melhor classificador:  RandomForestClassifier(criterion='entropy', max_depth=10, min_samples_leaf=20,\n",
      "                       n_estimators=10, random_state=42)\n",
      "Score:  0.40426295618304503\n",
      "\n",
      "Métrica de avaliacao:  roc_auc\n",
      "Fitting 5 folds for each of 1 candidates, totalling 5 fits\n",
      "Melhor classificador:  RandomForestClassifier(criterion='entropy', max_depth=10, min_samples_leaf=20,\n",
      "                       n_estimators=10, random_state=42)\n",
      "Score:  0.7038884692825962\n",
      "\n"
     ]
    },
    {
     "name": "stderr",
     "output_type": "stream",
     "text": [
      "[Parallel(n_jobs=-1)]: Done   5 out of   5 | elapsed:    0.1s finished\n"
     ]
    }
   ],
   "source": [
    "#Classificador 2\n",
    "rf = RandomForestClassifier(random_state=42)\n",
    "params = {\n",
    "    'criterion': ['entropy'],\n",
    "    'max_depth': [10],\n",
    "    'min_samples_leaf': [20],\n",
    "    'n_estimators': [10]\n",
    "}\n",
    "for score_item in scoring:\n",
    "    print('Métrica de avaliacao: ', score_item)\n",
    "    grid_search = GridSearchCV(estimator=rf,\n",
    "                            param_grid=params,\n",
    "                            cv = 5,\n",
    "                            n_jobs=-1, verbose=1, scoring=score_item)\n",
    "    #%%time\n",
    "    grid_search.fit(X, y)\n",
    "    best = grid_search.best_estimator_\n",
    "    print('Melhor classificador: ',best)\n",
    "    print('Score: ',grid_search.best_score_)\n",
    "    print()\n",
    "    if (rf_best_score < grid_search.best_score_):\n",
    "        rf_best_estimator = best\n",
    "        rf_best_score = grid_search.best_score_"
   ]
  },
  {
   "cell_type": "code",
   "execution_count": 26,
   "metadata": {},
   "outputs": [
    {
     "name": "stderr",
     "output_type": "stream",
     "text": [
      "[Parallel(n_jobs=-1)]: Using backend LokyBackend with 4 concurrent workers.\n"
     ]
    },
    {
     "name": "stdout",
     "output_type": "stream",
     "text": [
      "Métrica de avaliacao:  accuracy\n",
      "Fitting 5 folds for each of 1 candidates, totalling 5 fits\n"
     ]
    },
    {
     "name": "stderr",
     "output_type": "stream",
     "text": [
      "[Parallel(n_jobs=-1)]: Done   5 out of   5 | elapsed:    0.3s finished\n",
      "[Parallel(n_jobs=-1)]: Using backend LokyBackend with 4 concurrent workers.\n"
     ]
    },
    {
     "name": "stdout",
     "output_type": "stream",
     "text": [
      "Melhor classificador:  RandomForestClassifier(criterion='entropy', max_depth=2, min_samples_leaf=200,\n",
      "                       n_estimators=50, random_state=42)\n",
      "Score:  0.8657568862855207\n",
      "\n",
      "Métrica de avaliacao:  precision\n",
      "Fitting 5 folds for each of 1 candidates, totalling 5 fits\n"
     ]
    },
    {
     "name": "stderr",
     "output_type": "stream",
     "text": [
      "[Parallel(n_jobs=-1)]: Done   5 out of   5 | elapsed:    0.3s finished\n",
      "[Parallel(n_jobs=-1)]: Using backend LokyBackend with 4 concurrent workers.\n"
     ]
    },
    {
     "name": "stdout",
     "output_type": "stream",
     "text": [
      "Melhor classificador:  RandomForestClassifier(criterion='entropy', max_depth=2, min_samples_leaf=200,\n",
      "                       n_estimators=50, random_state=42)\n",
      "Score:  0.0\n",
      "\n",
      "Métrica de avaliacao:  recall\n",
      "Fitting 5 folds for each of 1 candidates, totalling 5 fits\n"
     ]
    },
    {
     "name": "stderr",
     "output_type": "stream",
     "text": [
      "[Parallel(n_jobs=-1)]: Done   5 out of   5 | elapsed:    0.3s finished\n",
      "[Parallel(n_jobs=-1)]: Using backend LokyBackend with 4 concurrent workers.\n"
     ]
    },
    {
     "name": "stdout",
     "output_type": "stream",
     "text": [
      "Melhor classificador:  RandomForestClassifier(criterion='entropy', max_depth=2, min_samples_leaf=200,\n",
      "                       n_estimators=50, random_state=42)\n",
      "Score:  0.0\n",
      "\n",
      "Métrica de avaliacao:  f1\n",
      "Fitting 5 folds for each of 1 candidates, totalling 5 fits\n"
     ]
    },
    {
     "name": "stderr",
     "output_type": "stream",
     "text": [
      "[Parallel(n_jobs=-1)]: Done   5 out of   5 | elapsed:    0.3s finished\n",
      "[Parallel(n_jobs=-1)]: Using backend LokyBackend with 4 concurrent workers.\n"
     ]
    },
    {
     "name": "stdout",
     "output_type": "stream",
     "text": [
      "Melhor classificador:  RandomForestClassifier(criterion='entropy', max_depth=2, min_samples_leaf=200,\n",
      "                       n_estimators=50, random_state=42)\n",
      "Score:  0.0\n",
      "\n",
      "Métrica de avaliacao:  roc_auc\n",
      "Fitting 5 folds for each of 1 candidates, totalling 5 fits\n",
      "Melhor classificador:  RandomForestClassifier(criterion='entropy', max_depth=2, min_samples_leaf=200,\n",
      "                       n_estimators=50, random_state=42)\n",
      "Score:  0.7054657936879496\n",
      "\n"
     ]
    },
    {
     "name": "stderr",
     "output_type": "stream",
     "text": [
      "[Parallel(n_jobs=-1)]: Done   5 out of   5 | elapsed:    0.3s finished\n"
     ]
    }
   ],
   "source": [
    "#Classificador 3\n",
    "rf = RandomForestClassifier(random_state=42)\n",
    "params = {\n",
    "    'criterion': ['entropy'],\n",
    "    'max_depth': [2],\n",
    "    'min_samples_leaf': [200],\n",
    "    'n_estimators': [50]\n",
    "}\n",
    "for score_item in scoring:\n",
    "    print('Métrica de avaliacao: ', score_item)\n",
    "    grid_search = GridSearchCV(estimator=rf,\n",
    "                            param_grid=params,\n",
    "                            cv = 5,\n",
    "                            n_jobs=-1, verbose=1, scoring=score_item)\n",
    "    #%%time\n",
    "    grid_search.fit(X, y)\n",
    "    best = grid_search.best_estimator_\n",
    "    print('Melhor classificador: ',best)\n",
    "    print('Score: ',grid_search.best_score_)\n",
    "    print()\n",
    "    if (rf_best_score < grid_search.best_score_):\n",
    "        rf_best_estimator = best\n",
    "        rf_best_score = grid_search.best_score_"
   ]
  },
  {
   "cell_type": "code",
   "execution_count": 27,
   "metadata": {},
   "outputs": [
    {
     "name": "stderr",
     "output_type": "stream",
     "text": [
      "[Parallel(n_jobs=-1)]: Using backend LokyBackend with 4 concurrent workers.\n"
     ]
    },
    {
     "name": "stdout",
     "output_type": "stream",
     "text": [
      "Métrica de avaliacao:  accuracy\n",
      "Fitting 5 folds for each of 1 candidates, totalling 5 fits\n"
     ]
    },
    {
     "name": "stderr",
     "output_type": "stream",
     "text": [
      "[Parallel(n_jobs=-1)]: Done   5 out of   5 | elapsed:    1.3s finished\n"
     ]
    },
    {
     "name": "stdout",
     "output_type": "stream",
     "text": [
      "Melhor classificador:  RandomForestClassifier(criterion='entropy', max_depth=20, min_samples_leaf=5,\n",
      "                       n_estimators=200, random_state=42)\n",
      "Score:  0.8508215132884736\n",
      "\n",
      "Métrica de avaliacao:  precision\n",
      "Fitting 5 folds for each of 1 candidates, totalling 5 fits\n"
     ]
    },
    {
     "name": "stderr",
     "output_type": "stream",
     "text": [
      "[Parallel(n_jobs=-1)]: Using backend LokyBackend with 4 concurrent workers.\n",
      "[Parallel(n_jobs=-1)]: Done   5 out of   5 | elapsed:    1.2s finished\n"
     ]
    },
    {
     "name": "stdout",
     "output_type": "stream",
     "text": [
      "Melhor classificador:  RandomForestClassifier(criterion='entropy', max_depth=20, min_samples_leaf=5,\n",
      "                       n_estimators=200, random_state=42)\n",
      "Score:  0.4103825856361353\n",
      "\n",
      "Métrica de avaliacao:  recall\n",
      "Fitting 5 folds for each of 1 candidates, totalling 5 fits\n"
     ]
    },
    {
     "name": "stderr",
     "output_type": "stream",
     "text": [
      "[Parallel(n_jobs=-1)]: Using backend LokyBackend with 4 concurrent workers.\n",
      "[Parallel(n_jobs=-1)]: Done   5 out of   5 | elapsed:    1.2s finished\n"
     ]
    },
    {
     "name": "stdout",
     "output_type": "stream",
     "text": [
      "Melhor classificador:  RandomForestClassifier(criterion='entropy', max_depth=20, min_samples_leaf=5,\n",
      "                       n_estimators=200, random_state=42)\n",
      "Score:  0.3868852459016393\n",
      "\n",
      "Métrica de avaliacao:  f1\n",
      "Fitting 5 folds for each of 1 candidates, totalling 5 fits\n"
     ]
    },
    {
     "name": "stderr",
     "output_type": "stream",
     "text": [
      "[Parallel(n_jobs=-1)]: Using backend LokyBackend with 4 concurrent workers.\n",
      "[Parallel(n_jobs=-1)]: Done   5 out of   5 | elapsed:    1.2s finished\n"
     ]
    },
    {
     "name": "stdout",
     "output_type": "stream",
     "text": [
      "Melhor classificador:  RandomForestClassifier(criterion='entropy', max_depth=20, min_samples_leaf=5,\n",
      "                       n_estimators=200, random_state=42)\n",
      "Score:  0.3604332308198677\n",
      "\n",
      "Métrica de avaliacao:  roc_auc\n",
      "Fitting 5 folds for each of 1 candidates, totalling 5 fits\n"
     ]
    },
    {
     "name": "stderr",
     "output_type": "stream",
     "text": [
      "[Parallel(n_jobs=-1)]: Using backend LokyBackend with 4 concurrent workers.\n",
      "[Parallel(n_jobs=-1)]: Done   5 out of   5 | elapsed:    1.2s finished\n"
     ]
    },
    {
     "name": "stdout",
     "output_type": "stream",
     "text": [
      "Melhor classificador:  RandomForestClassifier(criterion='entropy', max_depth=20, min_samples_leaf=5,\n",
      "                       n_estimators=200, random_state=42)\n",
      "Score:  0.7164786378753931\n",
      "\n"
     ]
    }
   ],
   "source": [
    "#Classificador 4\n",
    "rf = RandomForestClassifier(random_state=42)\n",
    "params = {\n",
    "    'criterion': ['entropy'],\n",
    "    'max_depth': [20],\n",
    "    'min_samples_leaf': [5],\n",
    "    'n_estimators': [200]\n",
    "}\n",
    "for score_item in scoring:\n",
    "    print('Métrica de avaliacao: ', score_item)\n",
    "    grid_search = GridSearchCV(estimator=rf,\n",
    "                            param_grid=params,\n",
    "                            cv = 5,\n",
    "                            n_jobs=-1, verbose=1, scoring=score_item)\n",
    "    #%%time\n",
    "    grid_search.fit(X, y)\n",
    "    best = grid_search.best_estimator_\n",
    "    print('Melhor classificador: ',best)\n",
    "    print('Score: ',grid_search.best_score_)\n",
    "    print()\n",
    "    if (rf_best_score < grid_search.best_score_):\n",
    "        rf_best_estimator = best\n",
    "        rf_best_score = grid_search.best_score_"
   ]
  },
  {
   "cell_type": "markdown",
   "metadata": {},
   "source": [
    "## MLP"
   ]
  },
  {
   "cell_type": "code",
   "execution_count": 28,
   "metadata": {
    "scrolled": true
   },
   "outputs": [
    {
     "name": "stdout",
     "output_type": "stream",
     "text": [
      "Métrica de avaliacao:  accuracy\n",
      "Fitting 5 folds for each of 32 candidates, totalling 160 fits\n"
     ]
    },
    {
     "name": "stderr",
     "output_type": "stream",
     "text": [
      "[Parallel(n_jobs=-1)]: Using backend LokyBackend with 4 concurrent workers.\n",
      "[Parallel(n_jobs=-1)]: Done  42 tasks      | elapsed:   23.7s\n",
      "[Parallel(n_jobs=-1)]: Done 160 out of 160 | elapsed:  1.1min finished\n",
      "/home/marcelo/anaconda3/lib/python3.8/site-packages/sklearn/neural_network/_multilayer_perceptron.py:582: ConvergenceWarning: Stochastic Optimizer: Maximum iterations (100) reached and the optimization hasn't converged yet.\n",
      "  warnings.warn(\n",
      "[Parallel(n_jobs=-1)]: Using backend LokyBackend with 4 concurrent workers.\n"
     ]
    },
    {
     "name": "stdout",
     "output_type": "stream",
     "text": [
      "Melhor classificador:  MLPClassifier(activation='tanh', hidden_layer_sizes=(10, 30, 10),\n",
      "              learning_rate='adaptive', max_iter=100, solver='sgd')\n",
      "Score:  0.877190298688096\n",
      "\n",
      "Métrica de avaliacao:  precision\n",
      "Fitting 5 folds for each of 32 candidates, totalling 160 fits\n"
     ]
    },
    {
     "name": "stderr",
     "output_type": "stream",
     "text": [
      "[Parallel(n_jobs=-1)]: Done  42 tasks      | elapsed:   28.5s\n",
      "[Parallel(n_jobs=-1)]: Done 160 out of 160 | elapsed:  1.1min finished\n",
      "/home/marcelo/anaconda3/lib/python3.8/site-packages/sklearn/neural_network/_multilayer_perceptron.py:582: ConvergenceWarning: Stochastic Optimizer: Maximum iterations (100) reached and the optimization hasn't converged yet.\n",
      "  warnings.warn(\n",
      "[Parallel(n_jobs=-1)]: Using backend LokyBackend with 4 concurrent workers.\n"
     ]
    },
    {
     "name": "stdout",
     "output_type": "stream",
     "text": [
      "Melhor classificador:  MLPClassifier(activation='tanh', hidden_layer_sizes=(10, 30, 10),\n",
      "              learning_rate='adaptive', max_iter=100)\n",
      "Score:  0.5278754911656999\n",
      "\n",
      "Métrica de avaliacao:  recall\n",
      "Fitting 5 folds for each of 32 candidates, totalling 160 fits\n"
     ]
    },
    {
     "name": "stderr",
     "output_type": "stream",
     "text": [
      "[Parallel(n_jobs=-1)]: Done  42 tasks      | elapsed:   38.1s\n",
      "[Parallel(n_jobs=-1)]: Done 160 out of 160 | elapsed:  1.6min finished\n",
      "/home/marcelo/anaconda3/lib/python3.8/site-packages/sklearn/neural_network/_multilayer_perceptron.py:582: ConvergenceWarning: Stochastic Optimizer: Maximum iterations (100) reached and the optimization hasn't converged yet.\n",
      "  warnings.warn(\n",
      "[Parallel(n_jobs=-1)]: Using backend LokyBackend with 4 concurrent workers.\n"
     ]
    },
    {
     "name": "stdout",
     "output_type": "stream",
     "text": [
      "Melhor classificador:  MLPClassifier(activation='tanh', alpha=0.05, hidden_layer_sizes=(10, 30, 10),\n",
      "              max_iter=100)\n",
      "Score:  0.44918032786885237\n",
      "\n",
      "Métrica de avaliacao:  f1\n",
      "Fitting 5 folds for each of 32 candidates, totalling 160 fits\n"
     ]
    },
    {
     "name": "stderr",
     "output_type": "stream",
     "text": [
      "[Parallel(n_jobs=-1)]: Done  42 tasks      | elapsed:   27.8s\n",
      "[Parallel(n_jobs=-1)]: Done 160 out of 160 | elapsed:  1.4min finished\n",
      "/home/marcelo/anaconda3/lib/python3.8/site-packages/sklearn/neural_network/_multilayer_perceptron.py:582: ConvergenceWarning: Stochastic Optimizer: Maximum iterations (100) reached and the optimization hasn't converged yet.\n",
      "  warnings.warn(\n",
      "[Parallel(n_jobs=-1)]: Using backend LokyBackend with 4 concurrent workers.\n"
     ]
    },
    {
     "name": "stdout",
     "output_type": "stream",
     "text": [
      "Melhor classificador:  MLPClassifier(hidden_layer_sizes=(10, 30, 10), max_iter=100)\n",
      "Score:  0.4150223177252654\n",
      "\n",
      "Métrica de avaliacao:  roc_auc\n",
      "Fitting 5 folds for each of 32 candidates, totalling 160 fits\n"
     ]
    },
    {
     "name": "stderr",
     "output_type": "stream",
     "text": [
      "[Parallel(n_jobs=-1)]: Done  42 tasks      | elapsed:   21.1s\n",
      "[Parallel(n_jobs=-1)]: Done 160 out of 160 | elapsed:  1.4min finished\n"
     ]
    },
    {
     "name": "stdout",
     "output_type": "stream",
     "text": [
      "Melhor classificador:  MLPClassifier(activation='tanh', alpha=0.05, hidden_layer_sizes=(20,),\n",
      "              learning_rate='adaptive', max_iter=100)\n",
      "Score:  0.8043137573763716\n",
      "\n"
     ]
    },
    {
     "name": "stderr",
     "output_type": "stream",
     "text": [
      "/home/marcelo/anaconda3/lib/python3.8/site-packages/sklearn/neural_network/_multilayer_perceptron.py:582: ConvergenceWarning: Stochastic Optimizer: Maximum iterations (100) reached and the optimization hasn't converged yet.\n",
      "  warnings.warn(\n"
     ]
    }
   ],
   "source": [
    "mlp = MLPClassifier(max_iter=100)\n",
    "params = {\n",
    "    'hidden_layer_sizes': [(10,30,10),(20,)],\n",
    "    'activation': ['tanh', 'relu'],\n",
    "    'solver': ['sgd', 'adam'],\n",
    "    'alpha': [0.0001, 0.05],\n",
    "    'learning_rate': ['constant','adaptive'],\n",
    "}\n",
    "for score_item in scoring:\n",
    "    print('Métrica de avaliacao: ', score_item)\n",
    "    grid_search = GridSearchCV(estimator=mlp,\n",
    "                            param_grid=params,\n",
    "                            cv = 5,\n",
    "                            n_jobs=-1, verbose=1, scoring=score_item)\n",
    "    #%%time\n",
    "    grid_search.fit(X, y)\n",
    "    best = grid_search.best_estimator_\n",
    "    print('Melhor classificador: ',best)\n",
    "    print('Score: ',grid_search.best_score_)\n",
    "    print()\n",
    "    if (mlp_best_score < grid_search.best_score_):\n",
    "        mlp_best_estimator = best\n",
    "        mlp_best_score = grid_search.best_score_"
   ]
  },
  {
   "cell_type": "markdown",
   "metadata": {},
   "source": [
    "## SVM"
   ]
  },
  {
   "cell_type": "code",
   "execution_count": 29,
   "metadata": {},
   "outputs": [
    {
     "name": "stderr",
     "output_type": "stream",
     "text": [
      "[Parallel(n_jobs=-1)]: Using backend LokyBackend with 4 concurrent workers.\n"
     ]
    },
    {
     "name": "stdout",
     "output_type": "stream",
     "text": [
      "Métrica de avaliacao:  accuracy\n",
      "Fitting 5 folds for each of 9 candidates, totalling 45 fits\n"
     ]
    },
    {
     "name": "stderr",
     "output_type": "stream",
     "text": [
      "[Parallel(n_jobs=-1)]: Done  38 out of  45 | elapsed:    1.0s remaining:    0.2s\n",
      "[Parallel(n_jobs=-1)]: Done  45 out of  45 | elapsed:    1.1s finished\n",
      "[Parallel(n_jobs=-1)]: Using backend LokyBackend with 4 concurrent workers.\n"
     ]
    },
    {
     "name": "stdout",
     "output_type": "stream",
     "text": [
      "Melhor classificador:  SVC(C=0.1, gamma=0.01)\n",
      "Score:  0.8547659389069082\n",
      "\n",
      "Métrica de avaliacao:  precision\n",
      "Fitting 5 folds for each of 9 candidates, totalling 45 fits\n"
     ]
    },
    {
     "name": "stderr",
     "output_type": "stream",
     "text": [
      "[Parallel(n_jobs=-1)]: Done  38 out of  45 | elapsed:    0.8s remaining:    0.2s\n",
      "[Parallel(n_jobs=-1)]: Done  45 out of  45 | elapsed:    1.0s finished\n",
      "[Parallel(n_jobs=-1)]: Using backend LokyBackend with 4 concurrent workers.\n"
     ]
    },
    {
     "name": "stdout",
     "output_type": "stream",
     "text": [
      "Melhor classificador:  SVC(C=1, gamma=0.1)\n",
      "Score:  0.5947699757869249\n",
      "\n",
      "Métrica de avaliacao:  recall\n",
      "Fitting 5 folds for each of 9 candidates, totalling 45 fits\n"
     ]
    },
    {
     "name": "stderr",
     "output_type": "stream",
     "text": [
      "[Parallel(n_jobs=-1)]: Done  38 out of  45 | elapsed:    0.8s remaining:    0.2s\n",
      "[Parallel(n_jobs=-1)]: Done  45 out of  45 | elapsed:    1.0s finished\n",
      "[Parallel(n_jobs=-1)]: Using backend LokyBackend with 4 concurrent workers.\n"
     ]
    },
    {
     "name": "stdout",
     "output_type": "stream",
     "text": [
      "Melhor classificador:  SVC(C=10, gamma=1)\n",
      "Score:  0.38032786885245906\n",
      "\n",
      "Métrica de avaliacao:  f1\n",
      "Fitting 5 folds for each of 9 candidates, totalling 45 fits\n"
     ]
    },
    {
     "name": "stderr",
     "output_type": "stream",
     "text": [
      "[Parallel(n_jobs=-1)]: Done  38 out of  45 | elapsed:    0.8s remaining:    0.2s\n",
      "[Parallel(n_jobs=-1)]: Done  45 out of  45 | elapsed:    1.0s finished\n",
      "[Parallel(n_jobs=-1)]: Using backend LokyBackend with 4 concurrent workers.\n"
     ]
    },
    {
     "name": "stdout",
     "output_type": "stream",
     "text": [
      "Melhor classificador:  SVC(C=1, gamma=0.1)\n",
      "Score:  0.332980977201007\n",
      "\n",
      "Métrica de avaliacao:  roc_auc\n",
      "Fitting 5 folds for each of 9 candidates, totalling 45 fits\n",
      "Melhor classificador:  SVC(C=10, gamma=1)\n",
      "Score:  0.7346667284959538\n",
      "\n"
     ]
    },
    {
     "name": "stderr",
     "output_type": "stream",
     "text": [
      "[Parallel(n_jobs=-1)]: Done  38 out of  45 | elapsed:    0.9s remaining:    0.2s\n",
      "[Parallel(n_jobs=-1)]: Done  45 out of  45 | elapsed:    1.0s finished\n"
     ]
    }
   ],
   "source": [
    "#kernel rbf\n",
    "svc_kernel = 'rbf'\n",
    "svc = SVC(kernel='rbf')\n",
    "params = {'C': [0.1, 1, 10], \n",
    "          'gamma': [1,0.1, 0.01]}\n",
    "for score_item in scoring:\n",
    "    print('Métrica de avaliacao: ', score_item)\n",
    "    grid_search = GridSearchCV(estimator=svc,\n",
    "                            param_grid=params,\n",
    "                            cv = 5,\n",
    "                            n_jobs=-1, verbose=1, scoring=score_item)\n",
    "    #%%time\n",
    "    grid_search.fit(X, y)\n",
    "    best = grid_search.best_estimator_\n",
    "    print('Melhor classificador: ',best)\n",
    "    print('Score: ',grid_search.best_score_)\n",
    "    print()\n",
    "    if (svc_best_score < grid_search.best_score_):\n",
    "        svc_best_estimator = best\n",
    "        svc_best_score = grid_search.best_score_\n",
    "        "
   ]
  },
  {
   "cell_type": "code",
   "execution_count": 30,
   "metadata": {},
   "outputs": [
    {
     "name": "stderr",
     "output_type": "stream",
     "text": [
      "[Parallel(n_jobs=-1)]: Using backend LokyBackend with 4 concurrent workers.\n"
     ]
    },
    {
     "name": "stdout",
     "output_type": "stream",
     "text": [
      "Métrica de avaliacao:  accuracy\n",
      "Fitting 5 folds for each of 3 candidates, totalling 15 fits\n"
     ]
    },
    {
     "name": "stderr",
     "output_type": "stream",
     "text": [
      "[Parallel(n_jobs=-1)]: Done  15 out of  15 | elapsed:    3.1s finished\n"
     ]
    },
    {
     "name": "stdout",
     "output_type": "stream",
     "text": [
      "Melhor classificador:  SVC(C=1, kernel='linear')\n",
      "Score:  0.8402614125962143\n",
      "\n",
      "Métrica de avaliacao:  precision\n",
      "Fitting 5 folds for each of 3 candidates, totalling 15 fits\n"
     ]
    },
    {
     "name": "stderr",
     "output_type": "stream",
     "text": [
      "[Parallel(n_jobs=-1)]: Using backend LokyBackend with 4 concurrent workers.\n",
      "[Parallel(n_jobs=-1)]: Done  15 out of  15 | elapsed:    3.2s finished\n"
     ]
    },
    {
     "name": "stdout",
     "output_type": "stream",
     "text": [
      "Melhor classificador:  SVC(C=10, kernel='linear')\n",
      "Score:  0.4754245754245754\n",
      "\n",
      "Métrica de avaliacao:  recall\n",
      "Fitting 5 folds for each of 3 candidates, totalling 15 fits\n"
     ]
    },
    {
     "name": "stderr",
     "output_type": "stream",
     "text": [
      "[Parallel(n_jobs=-1)]: Using backend LokyBackend with 4 concurrent workers.\n",
      "[Parallel(n_jobs=-1)]: Done  15 out of  15 | elapsed:    8.7s finished\n",
      "[Parallel(n_jobs=-1)]: Using backend LokyBackend with 4 concurrent workers.\n"
     ]
    },
    {
     "name": "stdout",
     "output_type": "stream",
     "text": [
      "Melhor classificador:  SVC(C=0.1, kernel='linear')\n",
      "Score:  0.5278688524590164\n",
      "\n",
      "Métrica de avaliacao:  f1\n",
      "Fitting 5 folds for each of 3 candidates, totalling 15 fits\n"
     ]
    },
    {
     "name": "stderr",
     "output_type": "stream",
     "text": [
      "[Parallel(n_jobs=-1)]: Done  15 out of  15 | elapsed:    3.1s finished\n"
     ]
    },
    {
     "name": "stdout",
     "output_type": "stream",
     "text": [
      "Melhor classificador:  SVC(C=10, kernel='linear')\n",
      "Score:  0.46610406363242696\n",
      "\n",
      "Métrica de avaliacao:  roc_auc\n",
      "Fitting 5 folds for each of 3 candidates, totalling 15 fits\n"
     ]
    },
    {
     "name": "stderr",
     "output_type": "stream",
     "text": [
      "[Parallel(n_jobs=-1)]: Using backend LokyBackend with 4 concurrent workers.\n",
      "[Parallel(n_jobs=-1)]: Done  15 out of  15 | elapsed:    3.4s finished\n"
     ]
    },
    {
     "name": "stdout",
     "output_type": "stream",
     "text": [
      "Melhor classificador:  SVC(C=10, kernel='linear')\n",
      "Score:  0.7625739066432816\n",
      "\n"
     ]
    }
   ],
   "source": [
    "#kernel linear\n",
    "svc_kernel = 'linear'\n",
    "svc = SVC(kernel='linear')\n",
    "params = {'C': [0.1,1,10]}\n",
    "for score_item in scoring:\n",
    "    print('Métrica de avaliacao: ', score_item)\n",
    "    grid_search = GridSearchCV(estimator=svc,\n",
    "                            param_grid=params,\n",
    "                            cv = 5,\n",
    "                            n_jobs=-1, verbose=1, scoring=score_item)\n",
    "    #%%time\n",
    "    grid_search.fit(X, y)\n",
    "    best = grid_search.best_estimator_\n",
    "    print('Melhor classificador: ',best)\n",
    "    print('Score: ',grid_search.best_score_)\n",
    "    print()\n",
    "    if (svc_best_score < grid_search.best_score_):\n",
    "        svc_best_estimator = best\n",
    "        svc_best_score = grid_search.best_score_"
   ]
  },
  {
   "cell_type": "code",
   "execution_count": 31,
   "metadata": {},
   "outputs": [
    {
     "name": "stdout",
     "output_type": "stream",
     "text": [
      "Métrica de avaliacao:  accuracy\n",
      "Fitting 5 folds for each of 6 candidates, totalling 30 fits\n"
     ]
    },
    {
     "name": "stderr",
     "output_type": "stream",
     "text": [
      "[Parallel(n_jobs=-1)]: Using backend LokyBackend with 4 concurrent workers.\n",
      "[Parallel(n_jobs=-1)]: Done  23 out of  30 | elapsed:    1.2s remaining:    0.4s\n",
      "[Parallel(n_jobs=-1)]: Done  30 out of  30 | elapsed:    2.3s finished\n"
     ]
    },
    {
     "name": "stdout",
     "output_type": "stream",
     "text": [
      "Melhor classificador:  SVC(C=10, kernel='poly')\n",
      "Score:  0.8578651304642493\n",
      "\n",
      "Métrica de avaliacao:  precision\n",
      "Fitting 5 folds for each of 6 candidates, totalling 30 fits\n"
     ]
    },
    {
     "name": "stderr",
     "output_type": "stream",
     "text": [
      "[Parallel(n_jobs=-1)]: Using backend LokyBackend with 4 concurrent workers.\n",
      "[Parallel(n_jobs=-1)]: Done  23 out of  30 | elapsed:    1.2s remaining:    0.4s\n",
      "[Parallel(n_jobs=-1)]: Done  30 out of  30 | elapsed:    2.2s finished\n"
     ]
    },
    {
     "name": "stdout",
     "output_type": "stream",
     "text": [
      "Melhor classificador:  SVC(C=10, degree=4, kernel='poly')\n",
      "Score:  0.6298373311276537\n",
      "\n",
      "Métrica de avaliacao:  recall\n",
      "Fitting 5 folds for each of 6 candidates, totalling 30 fits\n"
     ]
    },
    {
     "name": "stderr",
     "output_type": "stream",
     "text": [
      "[Parallel(n_jobs=-1)]: Using backend LokyBackend with 4 concurrent workers.\n",
      "[Parallel(n_jobs=-1)]: Done  23 out of  30 | elapsed:    1.2s remaining:    0.4s\n",
      "[Parallel(n_jobs=-1)]: Done  30 out of  30 | elapsed:    2.2s finished\n",
      "[Parallel(n_jobs=-1)]: Using backend LokyBackend with 4 concurrent workers.\n"
     ]
    },
    {
     "name": "stdout",
     "output_type": "stream",
     "text": [
      "Melhor classificador:  SVC(C=1, kernel='poly')\n",
      "Score:  0.3868852459016393\n",
      "\n",
      "Métrica de avaliacao:  f1\n",
      "Fitting 5 folds for each of 6 candidates, totalling 30 fits\n"
     ]
    },
    {
     "name": "stderr",
     "output_type": "stream",
     "text": [
      "[Parallel(n_jobs=-1)]: Done  23 out of  30 | elapsed:    1.2s remaining:    0.4s\n",
      "[Parallel(n_jobs=-1)]: Done  30 out of  30 | elapsed:    2.3s finished\n",
      "[Parallel(n_jobs=-1)]: Using backend LokyBackend with 4 concurrent workers.\n"
     ]
    },
    {
     "name": "stdout",
     "output_type": "stream",
     "text": [
      "Melhor classificador:  SVC(C=1, kernel='poly')\n",
      "Score:  0.3600448098708245\n",
      "\n",
      "Métrica de avaliacao:  roc_auc\n",
      "Fitting 5 folds for each of 6 candidates, totalling 30 fits\n"
     ]
    },
    {
     "name": "stderr",
     "output_type": "stream",
     "text": [
      "[Parallel(n_jobs=-1)]: Done  23 out of  30 | elapsed:    1.3s remaining:    0.4s\n"
     ]
    },
    {
     "name": "stdout",
     "output_type": "stream",
     "text": [
      "Melhor classificador:  SVC(C=1, kernel='poly')\n",
      "Score:  0.7562343296106597\n",
      "\n"
     ]
    },
    {
     "name": "stderr",
     "output_type": "stream",
     "text": [
      "[Parallel(n_jobs=-1)]: Done  30 out of  30 | elapsed:    2.2s finished\n"
     ]
    }
   ],
   "source": [
    "#kernel polinomial\n",
    "svc_kernel = 'polinomial'\n",
    "svc = SVC(kernel='poly')\n",
    "params = {'C': [0.1, 1, 10], \n",
    "          'degree': [3,4]}\n",
    "for score_item in scoring:\n",
    "    print('Métrica de avaliacao: ', score_item)\n",
    "    grid_search = GridSearchCV(estimator=svc,\n",
    "                            param_grid=params,\n",
    "                            cv = 5,\n",
    "                            n_jobs=-1, verbose=1, scoring=score_item)\n",
    "    #%%time\n",
    "    grid_search.fit(X, y)\n",
    "    best = grid_search.best_estimator_\n",
    "    print('Melhor classificador: ',best)\n",
    "    print('Score: ',grid_search.best_score_)\n",
    "    print()\n",
    "    if (svc_best_score < grid_search.best_score_):\n",
    "        svc_best_estimator = best\n",
    "        svc_best_score = grid_search.best_score_\n",
    "        "
   ]
  },
  {
   "cell_type": "code",
   "execution_count": 32,
   "metadata": {},
   "outputs": [
    {
     "name": "stdout",
     "output_type": "stream",
     "text": [
      "KNeighborsClassifier(metric='manhattan', n_jobs=-1, n_neighbors=2)\n",
      "0.8292685288280002\n",
      "GaussianNB(var_smoothing=1.0)\n",
      "0.8657568862855207\n",
      "Gaussian\n",
      "DecisionTreeClassifier(max_depth=2, min_samples_leaf=100, random_state=42)\n",
      "0.884665730745026\n",
      "RandomForestClassifier(criterion='entropy', max_depth=5, min_samples_leaf=10,\n",
      "                       n_estimators=25, random_state=42)\n",
      "0.9018485915492958\n",
      "MLPClassifier(activation='tanh', hidden_layer_sizes=(10, 30, 10),\n",
      "              learning_rate='adaptive', max_iter=100, solver='sgd')\n",
      "0.877190298688096\n"
     ]
    }
   ],
   "source": [
    "print(knn_best_estimator)\n",
    "print(knn_best_score)\n",
    "print(nb_best_estimator)\n",
    "print(nb_best_score)\n",
    "print(nb_distribution)\n",
    "print(dt_best_estimator)\n",
    "print(dt_best_score)\n",
    "print(rf_best_estimator)\n",
    "print(rf_best_score)\n",
    "print(mlp_best_estimator)\n",
    "print(mlp_best_score)"
   ]
  }
 ],
 "metadata": {
  "kernelspec": {
   "display_name": "Python 3",
   "language": "python",
   "name": "python3"
  },
  "language_info": {
   "codemirror_mode": {
    "name": "ipython",
    "version": 3
   },
   "file_extension": ".py",
   "mimetype": "text/x-python",
   "name": "python",
   "nbconvert_exporter": "python",
   "pygments_lexer": "ipython3",
   "version": "3.8.5"
  }
 },
 "nbformat": 4,
 "nbformat_minor": 5
}
